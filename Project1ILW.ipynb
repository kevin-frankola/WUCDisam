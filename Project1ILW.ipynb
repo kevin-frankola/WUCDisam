{
 "cells": [
  {
   "cell_type": "code",
   "execution_count": 1,
   "metadata": {
    "collapsed": false
   },
   "outputs": [],
   "source": [
    "#Kevin Frankola\n",
    "#intention is to translate into python from R script and reach a higher efficiency than 80%\n",
    "#throughout the script, there will be deep coppies made everytime the dataframe is restructured\n",
    "#this is to ensure that there isn't alisaing and to maintain the ability to run parallel tests\n",
    "\n",
    "#bring in the needed libraries\n",
    "import numpy as np\n",
    "from pandas import *\n",
    "import sklearn as sk\n",
    "import nltk as nl\n",
    "\n"
   ]
  },
  {
   "cell_type": "code",
   "execution_count": 2,
   "metadata": {
    "collapsed": true
   },
   "outputs": [],
   "source": [
    "#bring in the unaltered csv as a dataframe\n",
    "wucDataFrameOrg = read_csv(\"/home/kevin/Datasets/TASnapshot/SampleMXData.csv\", header=0)"
   ]
  },
  {
   "cell_type": "code",
   "execution_count": 3,
   "metadata": {
    "collapsed": true
   },
   "outputs": [],
   "source": [
    "#bring in the unaltered csv as a dataframe\n",
    "#this method of .from_csv was abandoned based on pandas docs. read_csv works better \n",
    "#and also returns a DF.\n",
    "#wucDataFrameOrg = DataFrame.from_csv(\"/home/kevin/Datasets/TASnapshot/SampleMXData.csv\", header=0)"
   ]
  },
  {
   "cell_type": "code",
   "execution_count": 4,
   "metadata": {
    "collapsed": false
   },
   "outputs": [],
   "source": [
    "#make a deep copy of original then pull out only true matches\n",
    "wucDataFrameTrues = wucDataFrameOrg.copy(deep=True)\n",
    "wucDataFrameTrues = wucDataFrameTrues[wucDataFrameTrues.WUCMatch == True]\n"
   ]
  },
  {
   "cell_type": "code",
   "execution_count": 5,
   "metadata": {
    "collapsed": false
   },
   "outputs": [],
   "source": [
    "#we want to now drop all the duplicate Work.Center.Event.Narrative values for \n",
    "#better training\n",
    "\n",
    "#to aviod large variable names\n",
    "#the wucDataFrameTruesDuplicatesDroppedFromEventNarattive \n",
    "#will be referred to as henceforth as:\n",
    "#wucDF_T_DDEN to signify the operations on the dataframe\n",
    "\n",
    "wucDF_T_DDEN = wucDataFrameTrues.copy(deep=True)\n",
    "wucDF_T_DDEN = wucDF_T_DDEN.drop_duplicates(subset ='Work.Center.Event.Narrative')\n",
    "#resetting the index after the drop\n",
    "wucDF_T_DDEN.reset_index(inplace=True)\n",
    "#print (wucDF_T_DDEN)\n",
    "\n",
    "#the drop_duplicates() method returns by default a copy of the data and is not inplace\n"
   ]
  },
  {
   "cell_type": "code",
   "execution_count": 6,
   "metadata": {
    "collapsed": false
   },
   "outputs": [],
   "source": [
    "#Splitting the frame 60/40 as indicated in the R script for train/test\n",
    "#will take the index of wucDF__T_DDEN (using DF.matrix) then use np.shuffle\n",
    "#will then split that array 60/40\n",
    "#this will produce the same effect as givwucDF_T_DDEN_droppedTrain.loc[element]en R code\n",
    "\n",
    "#first we copy\n",
    "#note, we NEED to use the 'Unnamed: 0' column as this indexing does not change\n",
    "wucDF_T_DDENcopy = wucDF_T_DDEN.copy(deep=True)\n",
    "npIndexPreSplit = wucDF_T_DDENcopy.loc[:,'Unnamed: 0'].values\n",
    "\n",
    "#now going to shuffle the ndarray\n",
    "np.random.shuffle(npIndexPreSplit)\n",
    "#NOTE: this variable npIndexPreSplit is now randomized since it occured in-place\n",
    "\n",
    "#now going to split this ndarray into 2 seperate arrays: training and test\n",
    "#since the superset is randomized, these 2 subsets will also be random\n",
    "#to ensure the arrays get divided appropriately, first going to divide the index\n",
    "npIndexIntSplitVal = int(wucDF_T_DDENcopy.index.size*0.6)\n",
    "npIndexTrain = np.copy(npIndexPreSplit)\n",
    "npIndexTest = np.copy(npIndexPreSplit)\n",
    "npIndexTrain = npIndexTrain[:npIndexIntSplitVal]\n",
    "npIndexTest = npIndexTest[npIndexIntSplitVal:]\n",
    "\n"
   ]
  },
  {
   "cell_type": "code",
   "execution_count": 15,
   "metadata": {
    "collapsed": false
   },
   "outputs": [],
   "source": [
    "#going to now extract all words in text and implement a tokenization of \n",
    "#said words to develop a parallel method to the R related bag_o_words\n",
    "#in the same fashion, the wods will be extracted from training data\n",
    "\n",
    "#use the unique, randomized indexing to pull words from the elements of the DF\n",
    "\n",
    "\n",
    "#narrative_termsSer is a series data type\n",
    "narrative_termsSer = wucDF_T_DDEN.loc[:,'Work.Center.Event.Narrative']\n",
    "#now take elements that only have the same index value\n",
    "#for simplicity (not processing time) i'm just going to create dropped dataframes for matching\n",
    "#index values, this should be simpler but could be changed later\n",
    "\n",
    "\n",
    "\n",
    "#FIX THIS. I NEED TO ENSURE THE INTEGRITY OF THE DF INDEX OR HAVE A MAPPING BETWEEN THE \n",
    "#ARRAY VALUES AND THE INDEX VALUES...\n",
    "dropCount = 0\n",
    "wucDF_T_DDEN_droppedTrain = wucDF_T_DDEN.copy(deep=True)\n",
    "#going to build an array of all the values that are a match, then drop all off at once\n",
    "for element in npIndexTrain:\n",
    "    if element in wucDF_T_DDEN_droppedTrain.:\n",
    "        wucDF_T_DDEN_droppedTrain.drop(element)\n",
    "        dropCount = dropCount+1\n",
    "        \n",
    "#then extract the values\n",
    "#narrative_termsVal is an numpy ndarray of just the words\n",
    "narrative_termsVal = narrative_termsSer.values\n",
    "\n",
    "#now digest this ndarray of values using nltk tokenization\n",
    "#the narrative_termsVal will be a tokenized numpy ndarray\n",
    "for element in narrative_termsVal:\n",
    "    nl.word_tokenize(element)"
   ]
  },
  {
   "cell_type": "code",
   "execution_count": 9,
   "metadata": {
    "collapsed": false,
    "scrolled": true
   },
   "outputs": [
    {
     "name": "stdout",
     "output_type": "stream",
     "text": [
      "[2570 5810 6311 ..., 6717 4204  615]\n"
     ]
    }
   ],
   "source": [
    "print(npIndexPreSplit)"
   ]
  },
  {
   "cell_type": "code",
   "execution_count": 6,
   "metadata": {
    "collapsed": false
   },
   "outputs": [
    {
     "data": {
      "text/plain": [
       "Index(['Unnamed: 0', 'Serial.Number', 'Job.Control.Number',\n",
       "       'Discrepancy.Narrative', 'MX.WUC', 'Debrief.WUC',\n",
       "       'Corrective.Narrative', 'Work.Center.Event.Narrative',\n",
       "       'Debrief.WUC.System', 'MX.WUC.System', 'WUCMatch'],\n",
       "      dtype='object')"
      ]
     },
     "execution_count": 6,
     "metadata": {},
     "output_type": "execute_result"
    }
   ],
   "source": [
    "wucDataFrameOrg.columns"
   ]
  },
  {
   "cell_type": "code",
   "execution_count": 16,
   "metadata": {
    "collapsed": false
   },
   "outputs": [
    {
     "name": "stdout",
     "output_type": "stream",
     "text": [
      "2216\n",
      "      index  Unnamed: 0  Serial.Number  Job.Control.Number  \\\n",
      "2973      1           2     8600000126           141820249   \n",
      "3135      2           3     8600000126           141820250   \n",
      "3597      3           4     8600000126           141820258   \n",
      "3073      4           5     8600000126           141820258   \n",
      "246       5           6     8600000126           141820258   \n",
      "1196      6           7     8600000126           141820259   \n",
      "3676      7           8     8600000126           141820259   \n",
      "3623      9          10     8600000105           141820217   \n",
      "428      10          11     8500000073           141820331   \n",
      "1249     11          12     8500000073           141820344   \n",
      "3487     13          14     8500000073           141820350   \n",
      "1275     14          15     8500000073           141820357   \n",
      "3221     15          16     8500000073           141820358   \n",
      "3195     16          17     8500000073           141820360   \n",
      "27       17          18     8600000101           141820332   \n",
      "2137     18          19     8600000101           141820332   \n",
      "3581     23          24     8600000101           141820345   \n",
      "1131     24          25     8600000122           141830115   \n",
      "1081     25          26     8600000110           141830143   \n",
      "2007     26          27     8600000110           141830145   \n",
      "2118     27          28     8500000080           141835002   \n",
      "1530     28          29     8500000080           141530224   \n",
      "2519     30          31     8500000080           141530233   \n",
      "1310     31          32     8500000080           141530235   \n",
      "796      32          33     8500000080           141530239   \n",
      "1692     33          34     8600000136           141530189   \n",
      "2825     34          35     8600000132           141530260   \n",
      "2003     35          36     8600000132           141530272   \n",
      "1673     36          37     8600000132           141530276   \n",
      "1145     37          38     8600000132           141530283   \n",
      "...     ...         ...            ...                 ...   \n",
      "365    6692        6693     8600000095           141760189   \n",
      "1703   6694        6695     8600000095           141760189   \n",
      "2511   6697        6698     8500000079           141760234   \n",
      "1295   6698        6699     8500000084           142070025   \n",
      "1910   6699        6700     8500000084           142070025   \n",
      "1965   6700        6701     8500000084           142070025   \n",
      "2911   6702        6703     8600000121           141770037   \n",
      "3433   6703        6704     8600000121           141770037   \n",
      "2937   6707        6708     8600000104           141770216   \n",
      "1908   6708        6709     8600000104           141770216   \n",
      "864    6709        6710     8600000104           141770216   \n",
      "1474   6710        6711     8600000104           141770224   \n",
      "3557   6711        6712     8600000104           141770227   \n",
      "2926   6712        6713     8500000072           141770161   \n",
      "2811   6713        6714     8500000072           141770161   \n",
      "2702   6714        6715     8500000072           141770161   \n",
      "3141   6716        6717     8500000072           141770178   \n",
      "2886   6720        6721     8600000113           141780159   \n",
      "2252   6721        6722     8600000113           141780167   \n",
      "2516   6722        6723     8600000113           141780183   \n",
      "2767   6723        6724     8600000113           141780183   \n",
      "1889   6724        6725     8600000113           141780183   \n",
      "2784   6726        6727     8600000111           141800018   \n",
      "1628   6727        6728     8600000111           142110258   \n",
      "2072   6730        6731     8600000139           142110182   \n",
      "2478   6733        6734     8600000113           142110227   \n",
      "1529   6737        6738     8600000093           141810241   \n",
      "196    6738        6739     8500000075           141820096   \n",
      "222    6739        6740     8500000075           141820096   \n",
      "770    6740        6741     8500000075           141820096   \n",
      "\n",
      "                                  Discrepancy.Narrative           MX.WUC  \\\n",
      "2973  [JETS] CMC 72219 3 SPD LKUP PWR               ...  42AAA             \n",
      "3135  [JETS] CMC 76032 2 REF VOLT                   ...  23R00             \n",
      "3597  036-2 [A/I] STBY ADI PRECESSES TO THE LEFT    ...  73BDB             \n",
      "3073  036-2 [A/I] STBY ADI PRECESSES TO THE LEFT    ...  73BDB             \n",
      "246   036-2 [A/I] STBY ADI PRECESSES TO THE LEFT    ...  73BDB             \n",
      "1196  037-2 [OAS] PILOT VSD DOESNT DISPLAY ALL OF TH...  73BHD             \n",
      "3676  037-2 [OAS] PILOT VSD DOESNT DISPLAY ALL OF TH...  73BHD             \n",
      "3623  [OAS] CMC 345082 RS 2 RVSP POE 1 FAIL         ...  73F00             \n",
      "428   029-2 [E/E] PILOT CLOCK INOP                  ...            51000   \n",
      "1249  [E/E] CMC 2125C 2 AIR CLG                     ...            41000   \n",
      "3487  [FUELS] CMC 280E6 TK 4 PMP                    ...  46BAH             \n",
      "1275  [A/I] CMC 46002 CCD                           ...  55CAA             \n",
      "3221  [A/I] CMC 46022 DAU 1                         ...  55CAA             \n",
      "3195  [A/I] CMC 46062 DAU 3                         ...  55CAA             \n",
      "27    [FUEL] CMC 28160 L FILTER                     ...  46BGD             \n",
      "2137  [FUEL] CMC 28160 L FILTER                     ...  46BGC             \n",
      "3581  [JETS] CMC 491AB ADG 4 CLUTCH                 ...  27BBH             \n",
      "1131  [OAS] CMC 345062 RS 2 POC/POE INTLK           ...  73DC0             \n",
      "1081  [HYD] CMC 29060 1 PRESS LO                    ...  45CCD             \n",
      "2007  [HYD] CMC 29064 3 PRESS LO                    ...  45CCD             \n",
      "2118  039-3 [OAS] INSR INOP                         ...  73BGW             \n",
      "1530  [HYD] CMC 27338, 27339 LWR RUD PRESS XDCR     ...            14000   \n",
      "2519  [OAS] CMC 343231 RDT1 RA1 BLANK FAIL          ...  73F00             \n",
      "1310  [DAS] CMC 934169 BND 8 RFS L                  ...  76ADE             \n",
      "796   041-2 [OAS] RDU/ ROLL CHAIN FAULT             ...  73DC0             \n",
      "1692  [JETS] CMC 723A1 4 FAN INL PRESS              ...  23DBQ             \n",
      "2825  [E/E] CMC 21117 CREW AIR CLG                  ...  41GAG             \n",
      "2003  [HYD] CMC 27338 LWR RUD PRESS XDCR            ...  14DCD             \n",
      "1673  [HYD] CMC 29058 3 PRESS HI                    ...  45CAA             \n",
      "1145  [JETS] CMC 49192 PTO 3                        ...  27AAC             \n",
      "...                                                 ...              ...   \n",
      "365   GSS INOP 12 DEGREE OFF FROM INS               ...  73BG0             \n",
      "1703  GSS INOP 12 DEGREE OFF FROM INS               ...  73BG0             \n",
      "2511  (EEC) CMC 24983 FWD BATT CONTR                ...  42CAA             \n",
      "1295  BRAKE SENSOR #4 FAILED ON LANDING. READ 4.9 VO...  13GAV             \n",
      "1910  BRAKE SENSOR #4 FAILED ON LANDING. READ 4.9 VO...  13GAA             \n",
      "1965  BRAKE SENSOR #4 FAILED ON LANDING. READ 4.9 VO...  13GAA             \n",
      "2911  (IFC) CMC 3130C IDAR DTIU                     ...  48CA0             \n",
      "3433  (IFC) CMC 3130C IDAR DTIU                     ...  48CA0             \n",
      "2937  WHEEL WELL CMPT HOT AND CREW CTL AVIONICS LIGH...  41H00             \n",
      "1908  WHEEL WELL CMPT HOT AND CREW CTL AVIONICS LIGH...  41FB0             \n",
      "864   WHEEL WELL CMPT HOT AND CREW CTL AVIONICS LIGH...  41FB0             \n",
      "1474  ***PRIORITY 1*** (FUEL) CMC 28157 CLG LOOP CRS...  46BGJ             \n",
      "3557  (IFC) CMC 3131C SDC SNSR                      ...  48C00             \n",
      "2926  COPILOTS AOA GAUGE + G METER INOP             ...  73AAD             \n",
      "2811  COPILOTS AOA GAUGE + G METER INOP             ...  73AA0             \n",
      "2702  COPILOTS AOA GAUGE + G METER INOP             ...  73AA0             \n",
      "3141  (DAS) CMC 934131 BND 7 DF RCVR L              ...  76DA0             \n",
      "2886  (IFC) CMC 22312 P TRIM                        ...  42ECE             \n",
      "2252  (OAS) CMC 345093 RS 2 RVSP A/D FAIL           ...  73DCH             \n",
      "2516  (EEC) CMC 75019 R DET                         ...  23RBP             \n",
      "2767  (EEC) CMC 75019 R DET                         ...  23RBP             \n",
      "1889  (EEC) CMC 75019 R DET                         ...  23RBP             \n",
      "2784  OSO LEFT SHOULDER HARNESS NOT COMPLETE ATTACHE...  16ABG             \n",
      "1628  BTC #2 OPEN W/ ELEC LT 30 MINS INTO FLIGHT    ...  42BAA             \n",
      "2072  ***PRIORITY 1**** (FUEL) CMC 280ED L WG PMP   ...  46BAM             \n",
      "2478  (JETS) CMC 49088 L APU LOP                    ...  24FAA             \n",
      "1529  BLOS WIRE CONNECTOR TO VIDEO CAPTURE CARD DISC...  73EDB             \n",
      "196   (SPECS) POSITION LIGHTS DO NOT WORK IN BRIGHT ...  44DD0             \n",
      "222   (SPECS) POSITION LIGHTS DO NOT WORK IN BRIGHT ...  44DD0             \n",
      "770   (SPECS) POSITION LIGHTS DO NOT WORK IN BRIGHT ...            44000   \n",
      "\n",
      "          Debrief.WUC                               Corrective.Narrative  \\\n",
      "2973              420  DATA REVIEWED, NO MAINT ACTION REQUIRED       ...   \n",
      "3135              230  DATA REVIEWED, NO MAINT ACTION REQUIRED       ...   \n",
      "3597  73A              OPS CHECK GOOD IAW 34-24-11                   ...   \n",
      "3073  73A              OPS CHECK GOOD IAW 33-10-01                   ...   \n",
      "246   73A              REMOVED AND REPLACED SCAI IAW 34-24-11 SEE THI...   \n",
      "1196  73B              OPS CHECK GOOD IAW 34-28-01                   ...   \n",
      "3676  73B              R2 PILOT VSD IAW 34-28-11 SEE THIS JCN WCE 002...   \n",
      "3623  73F              CMC ASSOCIATED TO RDR NO POWER SEE JCN 1418202...   \n",
      "428               510  NO DISCREPANCY NOTED, CLOCK OPERATED PROPERLY ...   \n",
      "1249              410  FIVE FLIGHT NO REISSUE                        ...   \n",
      "3487              460  CDDS CONFIRMS MOMENTARY GLITCH                ...   \n",
      "1275              550  CDDS CONFIRMS A MOMENTARY GLITCH FAILED FOR 10...   \n",
      "3221              550  CDDS CONFIRMS A MOMENTARY GLITCH FAILED FOR 10...   \n",
      "3195              550  CDDS CONFIRMS A MOMENTARY GLITCH FAILED FOR 10...   \n",
      "27                460  R2'D LT CL FILTER IAW 28JG-20-5 28-24-12      ...   \n",
      "2137              460  LK AND OPS CK GOOD IAW 28JG-20-5 28-24-13     ...   \n",
      "3581              270  DATA REVIEWED NO MX ACTION REQ                ...   \n",
      "1131  73D              CDDS INDICATES MOM FAIL                       ...   \n",
      "1081              450  CDDS CONFIRMS A MOMENTARY GLITCH FAILED FOR 5 ...   \n",
      "2007              450  CDDS CONFIRMS A MOMENTARY GLITCH FAILED FOR 5 ...   \n",
      "2118  73D              COULD NOT DUPLICATE MALFUNCTION SYSTEM OPS CHE...   \n",
      "1530              140  DUPLICATE W/U IAW 00-20-1 PARA 5.7.3.19.4.1   ...   \n",
      "2519  73F              REVIEWED DATA NO MX ACTION REQ                ...   \n",
      "1310  76A              JOB ASSOCIATED TO JCN 141410259 WCE 001       ...   \n",
      "796   73D              WRITE-UP ASSOCIATED TO JCN 141530242 WCE 001  ...   \n",
      "1692              230  REVIEWED CMC NO MX ACTION REQ'D               ...   \n",
      "2825              410  CDDS DATA INDICATED MOMENTARY GLITCH          ...   \n",
      "2003              140  CDDS CONFIRMS MOMENTARY GLITCH                ...   \n",
      "1673              450  CDDS CONFIRMED MOMENTARY GLITCH. AIRCRAFT IS O...   \n",
      "1145              270  DATA REVIEWED NO ACTION REQ                   ...   \n",
      "...               ...                                                ...   \n",
      "365   73B              GSS CB AMPLITUDE PHASE A,B, AND C CLOSED IAW 3...   \n",
      "1703  73B              OPS CHECK GOOD.                               ...   \n",
      "2511  42CAA            CDDS CONFIRMS MOMENTARY FAIL                  ...   \n",
      "1295  13G              B1/2 CURE CHECKED GOOD                        ...   \n",
      "1910  13G              R2 #4 BRAKE TEMP SENSOR IAW 32-41-20 SEE WCE 0...   \n",
      "1965  13G              OPS CHECK GOOD NDN                            ...   \n",
      "2911  48CAD            OPS CHECK GOOD AFTER REMOVAL AND REPLACEMENT O...   \n",
      "3433  48CAD            OPS CHECK GOOD                                ...   \n",
      "2937  41H00            SYSTEM OPS CHK GOOD AFTER R2 OF STORES THERMAL...   \n",
      "1908  41H00            OPS CHK C/W NDN GOOD TO GO                    ...   \n",
      "864   41H00            THERMAL MANAGEMENT CONTROLLER R2'D IAW 21-26-1...   \n",
      "1474  46BGJ            OPS CHECK GOOD                                ...   \n",
      "3557  48CAC            IDARS OPS CHECK C/W. NDN                      ...   \n",
      "2926  73A              OPS CHECK GOOD AFTER REMOVAL AND REPLACEMENT O...   \n",
      "2811  73A              OPS CHECK GOOD                                ...   \n",
      "2702  73A              COPILOTS AMI REMOVED AND REPLACED IAW 34-12-12...   \n",
      "3141  76D              TIME TAKEN FOR CDDS REVIEW. FURTHER TROUBLESHO...   \n",
      "2886  42ECE            CDDS CONFIRMS MOMENTARY FAIL                  ...   \n",
      "2252  73DCH            SEE JCN 141789001  FOR REASON                 ...   \n",
      "2516  23RBP            OPS CHK C/W NDN                               ...   \n",
      "2767  23RBP            R2D RH ICE DETECTOR IAW:75-14-10              ...   \n",
      "1889  23RBP            CMC NO LONGER ISSUES                          ...   \n",
      "2784  16A              OSO IREEL STRAPS UNTWISTED IAW SSSN95-11-22   ...   \n",
      "1628  42B              TIGHTENED #2 BTC BAR IAW 1-1A-14 24WD-00-00 OP...   \n",
      "2072  46BAM            CDDS CONFIRMS MOMENTARY FAIL                  ...   \n",
      "2478  24FAA            CDDS COFIRMS MOMENTARY FAIL                   ...   \n",
      "1529  73E              R2 BNC, OPS CHK GOOD                          ...   \n",
      "196               440  SECURED PNL IAW 1B-1B-2-51JG-00-1 TASK 51-03-0...   \n",
      "222               440  REMOVED AND REPLACED RELAYS 2451KD36 AND 2451K...   \n",
      "770               440  PERFORMED OP CHECK ON RELAYS 2451KD36 AND 2451...   \n",
      "\n",
      "                            Work.Center.Event.Narrative  Debrief.WUC.System  \\\n",
      "2973  [JETS] CMC 72219 3 SPD LKUP PWR               ...                  42   \n",
      "3135  [JETS] CMC 76032 2 REF VOLT                   ...                  23   \n",
      "3597  COMPONENT CHECK DUE ON SCAI SEE THIS JCN WCE 0...                  73   \n",
      "3073  LIGHTING OPS CHECK DUE ON SCAI IAW 33-10-01 SE...                  73   \n",
      "246   036-2 [A/I] STBY ADI PRECESSES TO THE LEFT    ...                  73   \n",
      "1196  PILOT VSD REQ OPS CHK IAW 34-28-01 SEE THIS JC...                  73   \n",
      "3676  037-2 [OAS] PILOT VSD DOESNT DISPLAY ALL OF TH...                  73   \n",
      "3623  [OAS] CMC 345082 RS 2 RVSP POE 1 FAIL         ...                  73   \n",
      "428   029-2 [E/E] PILOT CLOCK INOP                  ...                  51   \n",
      "1249  [E/E] CMC 2125C 2 AIR CLG                     ...                  41   \n",
      "3487  [FUELS] CMC 280E6 TK 4 PMP                    ...                  46   \n",
      "1275  [A/I] CMC 46002 CCD                           ...                  55   \n",
      "3221  [A/I] CMC 46022 DAU 1                         ...                  55   \n",
      "3195  [A/I] CMC 46062 DAU 3                         ...                  55   \n",
      "27    [FUEL] CMC 28160 L FILTER                     ...                  46   \n",
      "2137  LK AND OPS CK DUE ON LT C/L FILTER IAW 28JG-20...                  46   \n",
      "3581  [JETS] CMC 491AB ADG 4 CLUTCH                 ...                  27   \n",
      "1131  [OAS] CMC 345062 RS 2 POC/POE INTLK           ...                  73   \n",
      "1081  [HYD] CMC 29060 1 PRESS LO                    ...                  45   \n",
      "2007  [HYD] CMC 29064 3 PRESS LO                    ...                  45   \n",
      "2118  039-3 [OAS] INSR INOP                         ...                  73   \n",
      "1530  [HYD] CMC 27338, 27339 LWR RUD PRESS XDCR     ...                  14   \n",
      "2519  [OAS] CMC 343231 RDT1 RA1 BLANK FAIL          ...                  73   \n",
      "1310  [DAS] CMC 934169 BND 8 RFS L                  ...                  76   \n",
      "796   041-2 [OAS] RDU/ ROLL CHAIN FAULT             ...                  73   \n",
      "1692  [JETS] CMC 723A1 4 FAN INL PRESS              ...                  23   \n",
      "2825  [E/E] CMC 21117 CREW AIR CLG                  ...                  41   \n",
      "2003  [HYD] CMC 27338 LWR RUD PRESS XDCR            ...                  14   \n",
      "1673  [HYD] CMC 29058 3 PRESS HI                    ...                  45   \n",
      "1145  [JETS] CMC 49192 PTO 3                        ...                  27   \n",
      "...                                                 ...                 ...   \n",
      "365   GSS CB GSS AMPL PHASE A, B, AAND C PULLED TO F...                  73   \n",
      "1703  GSS REQUIRES OPS CHECK. SEE THIS JCN, WCE 001,...                  73   \n",
      "2511  (EEC) CMC 24983 FWD BATT CONTR                ...                  42   \n",
      "1295  B HALF CURE CHECK DUE AT 1700 ON THE 27TH JULY...                  13   \n",
      "1910  BRAKE SENSOR #4 FAILED ON LANDING. READ 4.9 VO...                  13   \n",
      "1965  OPS CHECK DUE ON #4 BRAKE TEMP SENSOR IAW 32-4...                  13   \n",
      "2911  (IFC) CMC 3130C IDAR DTIU                     ...                  48   \n",
      "3433  IDAR DTIU REQUIRES REMOVAL AND REPLACEMENT    ...                  48   \n",
      "2937  WHEEL WELL CMPT HOT AND CREW CTL AVIONICS LIGH...                  41   \n",
      "1908  OPS CHK DUE ON THERMAL MANAGEMENT CONTROLLER I...                  41   \n",
      "864   STORES AIR THERMAL MANAGEMENT CONTROLLER SUSPE...                  41   \n",
      "1474  ***PRIORITY 1*** (FUEL) CMC 28157 CLG LOOP CRS...                  46   \n",
      "3557  (IFC) CMC 3131C SDC SNSR                      ...                  48   \n",
      "2926  COPILOTS AOA GAUGE + G METER INOP             ...                  73   \n",
      "2811  COPILOTS AMI REQUIRES OPS CHECK IAW 34-12-12 S...                  73   \n",
      "2702  COPLILOTS AMI REQUIRES REMOVAL AND REPLACEMENT...                  73   \n",
      "3141  (DAS) CMC 934131 BND 7 DF RCVR L              ...                  76   \n",
      "2886  (IFC) CMC 22312 P TRIM                        ...                  42   \n",
      "2252  (OAS) CMC 345093 RS 2 RVSP A/D FAIL           ...                  73   \n",
      "2516  OPS CHK DUE ON RIGHT HAND ICE DETECTOR IAW:75-...                  23   \n",
      "2767  RIGHT HAND ICE DETECTOR BAD REQUIRES REMOVAL A...                  23   \n",
      "1889  (EEC) CMC 75019 R DET                         ...                  23   \n",
      "2784  OSO LEFT SHOULDER HARNESS NOT COMPLETE ATTACHE...                  16   \n",
      "1628  BTC #2 OPEN W/ ELEC LT 30 MINS INTO FLIGHT    ...                  42   \n",
      "2072  ***PRIORITY 1**** (FUEL) CMC 280ED L WG PMP   ...                  46   \n",
      "2478  (JETS) CMC 49088 L APU LOP                    ...                  24   \n",
      "1529  BLOS WIRE CONNECTOR TO VIDEO CAPTURE CARD DISC...                  73   \n",
      "196   OPENED LEFT MAIN WHEEL WELL PANEL TO ACCESS PC...                  44   \n",
      "222   (SPECS) POSITION LIGHTS DO NOT WORK IN BRIGHT ...                  44   \n",
      "770   RELAY 2451KD36 AND 2451KD37 REQUIRE OPS CHECK ...                  44   \n",
      "\n",
      "     MX.WUC.System WUCMatch  \n",
      "2973            42     True  \n",
      "3135            23     True  \n",
      "3597            73     True  \n",
      "3073            73     True  \n",
      "246             73     True  \n",
      "1196            73     True  \n",
      "3676            73     True  \n",
      "3623            73     True  \n",
      "428             51     True  \n",
      "1249            41     True  \n",
      "3487            46     True  \n",
      "1275            55     True  \n",
      "3221            55     True  \n",
      "3195            55     True  \n",
      "27              46     True  \n",
      "2137            46     True  \n",
      "3581            27     True  \n",
      "1131            73     True  \n",
      "1081            45     True  \n",
      "2007            45     True  \n",
      "2118            73     True  \n",
      "1530            14     True  \n",
      "2519            73     True  \n",
      "1310            76     True  \n",
      "796             73     True  \n",
      "1692            23     True  \n",
      "2825            41     True  \n",
      "2003            14     True  \n",
      "1673            45     True  \n",
      "1145            27     True  \n",
      "...            ...      ...  \n",
      "365             73     True  \n",
      "1703            73     True  \n",
      "2511            42     True  \n",
      "1295            13     True  \n",
      "1910            13     True  \n",
      "1965            13     True  \n",
      "2911            48     True  \n",
      "3433            48     True  \n",
      "2937            41     True  \n",
      "1908            41     True  \n",
      "864             41     True  \n",
      "1474            46     True  \n",
      "3557            48     True  \n",
      "2926            73     True  \n",
      "2811            73     True  \n",
      "2702            73     True  \n",
      "3141            76     True  \n",
      "2886            42     True  \n",
      "2252            73     True  \n",
      "2516            23     True  \n",
      "2767            23     True  \n",
      "1889            23     True  \n",
      "2784            16     True  \n",
      "1628            42     True  \n",
      "2072            46     True  \n",
      "2478            24     True  \n",
      "1529            73     True  \n",
      "196             44     True  \n",
      "222             44     True  \n",
      "770             44     True  \n",
      "\n",
      "[3694 rows x 12 columns]\n"
     ]
    }
   ],
   "source": [
    "print(dropCount)\n",
    "print(wucDF_T_DDEN_droppedTrain)\n",
    "#print(wucDF_T_DDEN.columns)\n",
    "#print(narrative_termsVal.size)\n",
    "#print(type(narrative_termsVal))\n",
    "#for element in narrative_termsSer:\n",
    "#    print (element)"
   ]
  },
  {
   "cell_type": "code",
   "execution_count": 17,
   "metadata": {
    "collapsed": false
   },
   "outputs": [],
   "source": [
    "#print(wucDF_T_DDEN.loc[:,'Work.Center.Event.Narrative'])"
   ]
  },
  {
   "cell_type": "code",
   "execution_count": null,
   "metadata": {
    "collapsed": true
   },
   "outputs": [],
   "source": [
    "#top 50  words from data\n",
    "#compare that between r and python\n",
    "#that will dictate how we change the tokenization process\n",
    "#is there anything we're clearly missing and is there anything that nltk\n",
    "#get a word table\n",
    "#count between the two\n",
    "#get this done soon\n",
    "#by the end of the week upload this to git\n"
   ]
  },
  {
   "cell_type": "code",
   "execution_count": null,
   "metadata": {
    "collapsed": true
   },
   "outputs": [],
   "source": [
    "#some testing \n",
    "\n",
    "print(npIndexPreSplit)\n",
    "print(npIndexPreSplit.size)\n",
    "print (npIndexTrain)\n",
    "print (npIndexTrain.size)\n",
    "print (npIndexTest)\n",
    "print (npIndexTest.size)\n",
    "print (npIndexTrain.size+npIndexTest.size)\n",
    "\n",
    "#will be using a uniform distribution to handle this\n",
    "#use nltk and bag/words \n",
    "#by next week - implementing bag of words in nltk and generate term frequency or count between the 2\n",
    "#-- baysean"
   ]
  },
  {
   "cell_type": "code",
   "execution_count": 42,
   "metadata": {
    "collapsed": false
   },
   "outputs": [
    {
     "name": "stdout",
     "output_type": "stream",
     "text": [
      "2216\n",
      "924\n",
      "3694\n",
      "3140\n"
     ]
    }
   ],
   "source": [
    "print(train_group.size)\n",
    "#print(test_group.length)\n",
    "print(len(test_groupArray))\n",
    "print(indexSize)\n",
    "print(len(test_groupArray)+train_group.size)"
   ]
  },
  {
   "cell_type": "code",
   "execution_count": 37,
   "metadata": {
    "collapsed": false
   },
   "outputs": [],
   "source": [
    "#Splitting the frame 60/40 as indicated in the R script for train/test\n",
    "indexSize = wucDF_T_DDEN.index.size\n",
    "train_percentage = 0.60\n",
    "#using intVal to break up data\n",
    "intValTrain = int(indexSize*train_percentage)\n",
    "intValTest = indexSize-intValTrain\n",
    "\n",
    "\n",
    "#going to use slightly different method of doing random 60/40 split of data\n",
    "#make 2 arrays of the indexes that will be of the 2 groups\n",
    "#will then use the array values to associate with the df objects\n",
    "train_group = np.random.randint(0,indexSize,intValTrain)\n",
    "test_group = np.empty(shape = (1, intValTest))\n",
    "\n",
    "#making sure the two sets have no overlap\n",
    "#for element in test_group:\n",
    "#   if element in train_group:\n",
    "#      test_group.delete(element)\n",
    "\n",
    "test_groupArray = []\n",
    "for element in train_group:\n",
    "    if element not in wucDF_T_DDEN.index:\n",
    "        test_groupArray.append(element)\n",
    "\n",
    "#is_train = np.random.randint(0,indexSize, indexSize)\n",
    "\n",
    "#will be using a uniform distribution to handle this\n",
    "#use nltk and bag/words \n",
    "#by next week - implementing bag of words in nltk and generate term frequency or count between the 2\n",
    "#-- baysean"
   ]
  },
  {
   "cell_type": "code",
   "execution_count": 27,
   "metadata": {
    "collapsed": false
   },
   "outputs": [
    {
     "data": {
      "text/plain": [
       "numpy.ndarray"
      ]
     },
     "execution_count": 27,
     "metadata": {},
     "output_type": "execute_result"
    }
   ],
   "source": [
    "type(train_group)"
   ]
  },
  {
   "cell_type": "code",
   "execution_count": 16,
   "metadata": {
    "collapsed": false
   },
   "outputs": [
    {
     "data": {
      "text/plain": [
       "2216"
      ]
     },
     "execution_count": 16,
     "metadata": {},
     "output_type": "execute_result"
    }
   ],
   "source": [
    "int(indexSize*.6)"
   ]
  },
  {
   "cell_type": "code",
   "execution_count": 24,
   "metadata": {
    "collapsed": false
   },
   "outputs": [
    {
     "data": {
      "text/plain": [
       "3694"
      ]
     },
     "execution_count": 24,
     "metadata": {},
     "output_type": "execute_result"
    }
   ],
   "source": [
    "wucDF_T_DDEN.index.size"
   ]
  },
  {
   "cell_type": "code",
   "execution_count": 7,
   "metadata": {
    "collapsed": false
   },
   "outputs": [
    {
     "data": {
      "text/plain": [
       "6741"
      ]
     },
     "execution_count": 7,
     "metadata": {},
     "output_type": "execute_result"
    }
   ],
   "source": [
    "wucDataFrameOrg.index.size"
   ]
  },
  {
   "cell_type": "code",
   "execution_count": 32,
   "metadata": {
    "collapsed": false
   },
   "outputs": [
    {
     "data": {
      "text/plain": [
       "Index(['Unnamed: 0', 'Serial.Number', 'Job.Control.Number',\n",
       "       'Discrepancy.Narrative', 'MX.WUC', 'Debrief.WUC',\n",
       "       'Corrective.Narrative', 'Work.Center.Event.Narrative',\n",
       "       'Debrief.WUC.System', 'MX.WUC.System', 'WUCMatch'],\n",
       "      dtype='object')"
      ]
     },
     "execution_count": 32,
     "metadata": {},
     "output_type": "execute_result"
    }
   ],
   "source": [
    "wucDataFrameTrues.columns"
   ]
  },
  {
   "cell_type": "code",
   "execution_count": 31,
   "metadata": {
    "collapsed": false
   },
   "outputs": [],
   "source": [
    "#wucDataFrameTrues"
   ]
  }
 ],
 "metadata": {
  "kernelspec": {
   "display_name": "Python 3",
   "language": "python",
   "name": "python3"
  },
  "language_info": {
   "codemirror_mode": {
    "name": "ipython",
    "version": 3
   },
   "file_extension": ".py",
   "mimetype": "text/x-python",
   "name": "python",
   "nbconvert_exporter": "python",
   "pygments_lexer": "ipython3",
   "version": "3.5.0"
  }
 },
 "nbformat": 4,
 "nbformat_minor": 0
}
